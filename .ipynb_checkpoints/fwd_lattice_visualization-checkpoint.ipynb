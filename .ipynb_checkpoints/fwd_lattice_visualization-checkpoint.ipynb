{
 "cells": [
  {
   "cell_type": "code",
   "execution_count": 15,
   "metadata": {},
   "outputs": [],
   "source": [
    "from scipy.special import logsumexp\n",
    "import numpy as np\n",
    "np.seterr(divide='ignore')\n",
    "import matplotlib.pyplot as plt"
   ]
  },
  {
   "cell_type": "code",
   "execution_count": 16,
   "metadata": {},
   "outputs": [],
   "source": [
    "# num_states = number of hidden states\n",
    "# observations are a series of distributions over states for isolated frames\n",
    "# transmat is the transition matrix\n",
    "# prior is the distribution at t=0 (the first observation is ignored)\n",
    "def make_fwd_lattice(num_states, observations, transmat, prior):\n",
    "    log_prior = np.log(prior)\n",
    "    log_observations = np.log(observations)\n",
    "    log_transmat = np.log(transmat)\n",
    "    observations = np.array(observations)\n",
    "    num_observations = observations.shape[0]\n",
    "    fwdlattice = np.zeros((num_observations, num_states))\n",
    "    \n",
    "    fwdlattice[0] = log_prior\n",
    "\n",
    "    work_buffer = np.zeros(num_states)\n",
    "    for t, log_observation in enumerate(log_observations[1:], start=1):\n",
    "        for to_idx in range(num_states):\n",
    "            for from_idx in range(num_states):\n",
    "                work_buffer[from_idx] = fwdlattice[t - 1, from_idx] + log_transmat[from_idx, to_idx]\n",
    "            try:\n",
    "                fwdlattice[t, to_idx] = logsumexp(work_buffer) + log_observation[to_idx]\n",
    "            except:\n",
    "                import pdb; pdb.set_trace()\n",
    "                pass\n",
    "    normalized = np.exp(fwdlattice)\n",
    "    normalized /= normalized.sum(axis=1)[:, np.newaxis]\n",
    "    normalized[0] = prior\n",
    "    return fwdlattice, normalized"
   ]
  },
  {
   "cell_type": "markdown",
   "metadata": {},
   "source": [
    "## 1. Let's verify the implementation is correct"
   ]
  },
  {
   "cell_type": "code",
   "execution_count": 17,
   "metadata": {},
   "outputs": [
    {
     "name": "stdout",
     "output_type": "stream",
     "text": [
      "forward lattice:\n",
      "[[ 0.                -inf]\n",
      " [-0.22314355 -1.60943791]\n",
      " [-0.4462871  -1.60943791]]\n",
      "forward lattice in probability space\n",
      "[[1.         0.        ]\n",
      " [0.8        0.2       ]\n",
      " [0.76190476 0.23809524]]\n",
      "\n",
      "\n",
      "Implementation is verifiably correct!\n"
     ]
    }
   ],
   "source": [
    "prior = np.array([1., 0.])\n",
    "transmat = [[1., 1.],\n",
    "            [0., 1.]]\n",
    "transmat = np.array(transmat)\n",
    "\n",
    "observations = list()\n",
    "observations.append(np.array([0.5, 0.5]))\n",
    "observations.append(np.array([0.8, 0.2]))\n",
    "observations.append(np.array([0.8, 0.2]))\n",
    "\n",
    "\n",
    "fwd_lattice, normalized = make_fwd_lattice(2, observations, transmat, prior)\n",
    "print('forward lattice:')\n",
    "print(fwd_lattice)\n",
    "print('forward lattice in probability space')\n",
    "print(normalized)\n",
    "print('\\n\\nImplementation is verifiably correct!')"
   ]
  },
  {
   "cell_type": "markdown",
   "metadata": {},
   "source": [
    "## 2. Forward lattice behavior when we give the same input repeatedly"
   ]
  },
  {
   "cell_type": "code",
   "execution_count": 18,
   "metadata": {},
   "outputs": [],
   "source": [
    "transmat = [[1., 1., 1.],\n",
    "            [0., 1., 1.],\n",
    "            [0., 0., 1.]]\n",
    "transmat = np.array(transmat)\n",
    "prior = np.array([1., 0., 0.])"
   ]
  },
  {
   "cell_type": "markdown",
   "metadata": {},
   "source": [
    "#### 2a) Given the same frame over and over, the distribution skews to the right"
   ]
  },
  {
   "cell_type": "code",
   "execution_count": 19,
   "metadata": {},
   "outputs": [],
   "source": [
    "transmat = [[1., 1., 1.],\n",
    "            [0., 1., 1.],\n",
    "            [0., 0., 1.]]\n",
    "transmat = np.array(transmat)\n",
    "prior = np.array([1., 0., 0.])"
   ]
  },
  {
   "cell_type": "code",
   "execution_count": 20,
   "metadata": {
    "scrolled": false
   },
   "outputs": [
    {
     "name": "stdout",
     "output_type": "stream",
     "text": [
      "We would expect the fwdlattice to be very confident the state of the robot is [0.6, 0.3, 0.1]\n",
      "The actual distribution is: [0.49315068 0.36986301 0.1369863 ]\n"
     ]
    }
   ],
   "source": [
    "observation = np.array([0.6, 0.3, 0.1])\n",
    "observations = np.array([observation for _ in range(3)])\n",
    "fwd_lattice, normalized = make_fwd_lattice(3, observations, transmat, prior)\n",
    "\n",
    "print('We would expect the fwdlattice to be very confident the state of the robot is [0.6, 0.3, 0.1]')\n",
    "print('The actual distribution is:', normalized[-1])\n"
   ]
  },
  {
   "cell_type": "markdown",
   "metadata": {},
   "source": [
    "#### 2b) The distribution gets quickly driven toward a stationary distribution"
   ]
  },
  {
   "cell_type": "code",
   "execution_count": 21,
   "metadata": {},
   "outputs": [],
   "source": [
    "observation = np.array([0.6, 0.3, 0.1])\n",
    "observations = np.array([observation for _ in range(25)])\n",
    "fwd_lattice, normalized = make_fwd_lattice(3, observations, transmat, prior)"
   ]
  },
  {
   "cell_type": "code",
   "execution_count": 22,
   "metadata": {},
   "outputs": [
    {
     "data": {
      "text/plain": [
       "<matplotlib.legend.Legend at 0x7fda40380da0>"
      ]
     },
     "execution_count": 22,
     "metadata": {},
     "output_type": "execute_result"
    },
    {
     "data": {
      "image/png": "[encoded data removed]",
      "text/plain": [
       "<Figure size 432x288 with 1 Axes>"
      ]
     },
     "metadata": {
      "needs_background": "light"
     },
     "output_type": "display_data"
    }
   ],
   "source": [
    "plt.plot(normalized[:, 0])\n",
    "plt.plot(normalized[:, 1])\n",
    "plt.plot(normalized[:, 2])\n",
    "plt.legend(['s0', 's1', 's2'])"
   ]
  },
  {
   "cell_type": "code",
   "execution_count": 23,
   "metadata": {},
   "outputs": [],
   "source": [
    "#### The same graph, but with expected values plotted as well"
   ]
  },
  {
   "cell_type": "code",
   "execution_count": 24,
   "metadata": {},
   "outputs": [
    {
     "data": {
      "text/plain": [
       "<matplotlib.legend.Legend at 0x7fda306a0b38>"
      ]
     },
     "execution_count": 24,
     "metadata": {},
     "output_type": "execute_result"
    },
    {
     "data": {
      "image/png": "[encoded data removed]",
      "text/plain": [
       "<Figure size 432x288 with 1 Axes>"
      ]
     },
     "metadata": {
      "needs_background": "light"
     },
     "output_type": "display_data"
    }
   ],
   "source": [
    "plt.plot(normalized[:, 0])\n",
    "plt.plot(normalized[:, 1])\n",
    "plt.plot(normalized[:, 2])\n",
    "plt.plot(np.full_like(normalized[:, 0], 0.6))\n",
    "plt.plot(np.full_like(normalized[:, 0], 0.3))\n",
    "plt.plot(np.full_like(normalized[:, 0], 0.1))\n",
    "plt.legend(['s0', 's1', 's2', 's0_expected', 's1_expected', 's2_expected'])"
   ]
  },
  {
   "cell_type": "markdown",
   "metadata": {},
   "source": [
    "### 2c) We make some progress in a few frames, and then make some negative progress: Plot viterbi reward vs per-frame reward"
   ]
  },
  {
   "cell_type": "code",
   "execution_count": 25,
   "metadata": {},
   "outputs": [],
   "source": [
    "def reward_from_distribution(distribution):\n",
    "    loss = (distribution * np.arange(len(distribution) - 1, -1, -1)).sum()\n",
    "    max_loss = len(distribution) - 1\n",
    "    reward = 1 - loss / max_loss\n",
    "    return reward"
   ]
  },
  {
   "cell_type": "code",
   "execution_count": 26,
   "metadata": {},
   "outputs": [],
   "source": [
    "observations = list()\n",
    "observations.append(np.array([1., 0., 0.]))\n",
    "observations.append(np.array([0.9, 0.1, 0.]))\n",
    "observations.append(np.array([0.8, 0.15, 0.05]))\n",
    "observations.append(np.array([0.7, 0.2, 0.1]))\n",
    "observations.append(np.array([0.5, 0.4, 0.1]))\n",
    "observations.append(np.array([0.25, 0.6, 0.15]))\n",
    "observations.append(np.array([0.2, 0.4, 0.4]))\n",
    "observations.append(np.array([0.1, 0.2, 0.7]))\n",
    "observations.append(np.array([0.05, 0.05, 0.9]))\n",
    "observations.append(np.array([0.1, 0.2, 0.7]))\n",
    "observations.append(np.array([0.2, 0.4, 0.4]))\n",
    "observations.append(np.array([0.25, 0.6, 0.15]))\n",
    "observations.append(np.array([0.5, 0.4, 0.1]))\n",
    "observations.append(np.array([0.7, 0.2, 0.1]))\n",
    "observations.append(np.array([0.8, 0.15, 0.05]))\n",
    "observations.append(np.array([0.9, 0.1, 0.]))\n",
    "fwd_lattice, normalized = make_fwd_lattice(3, observations, transmat, prior)"
   ]
  },
  {
   "cell_type": "markdown",
   "metadata": {},
   "source": [
    "### The reward is very inflated! It becomes more inflated over time, and decays VERY slowly when the observed distribution shifts to the left"
   ]
  },
  {
   "cell_type": "code",
   "execution_count": 27,
   "metadata": {},
   "outputs": [
    {
     "data": {
      "text/plain": [
       "<matplotlib.legend.Legend at 0x7fda2039b908>"
      ]
     },
     "execution_count": 27,
     "metadata": {},
     "output_type": "execute_result"
    },
    {
     "data": {
      "image/png": "[encoded data removed]",
      "text/plain": [
       "<Figure size 432x288 with 1 Axes>"
      ]
     },
     "metadata": {
      "needs_background": "light"
     },
     "output_type": "display_data"
    }
   ],
   "source": [
    "expected_reward = [reward_from_distribution(distribution) for distribution in observations]\n",
    "actual_reward = [reward_from_distribution(distribution) for distribution in normalized]\n",
    "plt.plot(expected_reward)\n",
    "plt.plot(actual_reward)\n",
    "plt.legend(['expected_reward', 'actual_reward'])\n"
   ]
  },
  {
   "cell_type": "markdown",
   "metadata": {},
   "source": [
    "### 2d) Plot log likelihood over time for the above example\n",
    "Vertical line denotes peak on the plot above, where we start making negative progress.\n"
   ]
  },
  {
   "cell_type": "code",
   "execution_count": 28,
   "metadata": {},
   "outputs": [
    {
     "data": {
      "text/plain": [
       "<matplotlib.legend.Legend at 0x7fda302cf7b8>"
      ]
     },
     "execution_count": 28,
     "metadata": {},
     "output_type": "execute_result"
    },
    {
     "data": {
      "image/png": "[encoded data removed]",
      "text/plain": [
       "<Figure size 432x288 with 1 Axes>"
      ]
     },
     "metadata": {
      "needs_background": "light"
     },
     "output_type": "display_data"
    }
   ],
   "source": [
    "total_likelihood = fwd_lattice.sum(axis=1)\n",
    "most_likely = np\n",
    "plt.plot(total_likelihood)\n",
    "most_likely_state_likelihood = np.max(fwd_lattice, axis=1)\n",
    "plt.axvline(x=8)\n",
    "plt.plot(most_likely_state_likelihood)\n",
    "plt.legend(['total_likelihood', 'max_state_likelihood'])"
   ]
  },
  {
   "cell_type": "code",
   "execution_count": null,
   "metadata": {},
   "outputs": [],
   "source": []
  }
 ],
 "metadata": {
  "kernelspec": {
   "display_name": "Python 3",
   "language": "python",
   "name": "python3"
  },
  "language_info": {
   "codemirror_mode": {
    "name": "ipython",
    "version": 3
   },
   "file_extension": ".py",
   "mimetype": "text/x-python",
   "name": "python",
   "nbconvert_exporter": "python",
   "pygments_lexer": "ipython3",
   "version": "3.6.7"
  }
 },
 "nbformat": 4,
 "nbformat_minor": 4
}
